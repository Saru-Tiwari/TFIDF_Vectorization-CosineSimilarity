{
  "nbformat": 4,
  "nbformat_minor": 0,
  "metadata": {
    "colab": {
      "provenance": [],
      "include_colab_link": true
    },
    "kernelspec": {
      "name": "python3",
      "display_name": "Python 3"
    },
    "language_info": {
      "name": "python"
    }
  },
  "cells": [
    {
      "cell_type": "markdown",
      "metadata": {
        "id": "view-in-github",
        "colab_type": "text"
      },
      "source": [
        "<a href=\"https://colab.research.google.com/github/Saru-Tiwari/TFIDF_Vectorization-CosineSimilarity/blob/main/Copy_of_Lab_7_TFIDF_Vectorization%26CosineSimilarity.ipynb\" target=\"_parent\"><img src=\"https://colab.research.google.com/assets/colab-badge.svg\" alt=\"Open In Colab\"/></a>"
      ]
    },
    {
      "cell_type": "code",
      "source": [
        "from sklearn.feature_extraction.text import TfidfVectorizer\n",
        "\n",
        "# documents\n",
        "doc1 = \"I study Computer Engineering at Pokhara University.\"\n",
        "doc2 = \"I am enrolled here at Pokhara University to study Computer Engineering\"\n"
      ],
      "metadata": {
        "id": "BQGZ-CjxLVCK"
      },
      "execution_count": null,
      "outputs": []
    },
    {
      "cell_type": "code",
      "source": [
        "# List of documents\n",
        "documents = [doc1, doc2]"
      ],
      "metadata": {
        "id": "-DVfp9vHLs1n"
      },
      "execution_count": null,
      "outputs": []
    },
    {
      "cell_type": "code",
      "source": [
        "# Initialize TF-IDF Vectorizer\n",
        "vectorizer = TfidfVectorizer()"
      ],
      "metadata": {
        "id": "QBMICKOkL6cU"
      },
      "execution_count": null,
      "outputs": []
    },
    {
      "cell_type": "code",
      "source": [
        "# Fit the vectorizer to documents and transform the documents\n",
        "tfidf_vectors = vectorizer.fit_transform(documents)"
      ],
      "metadata": {
        "id": "yRpdsaBtMEHU"
      },
      "execution_count": null,
      "outputs": []
    },
    {
      "cell_type": "code",
      "source": [
        "# Print the vocabulary (terms)\n",
        "print(\"Vocabulary (terms):\")\n",
        "print(vectorizer.get_feature_names_out())"
      ],
      "metadata": {
        "colab": {
          "base_uri": "https://localhost:8080/"
        },
        "id": "0ui3HSeMMF5p",
        "outputId": "5cb394d3-a63a-44fd-c6da-6282e47fefdb"
      },
      "execution_count": null,
      "outputs": [
        {
          "output_type": "stream",
          "name": "stdout",
          "text": [
            "Vocabulary (terms):\n",
            "['am' 'at' 'computer' 'engineering' 'enrolled' 'here' 'pokhara' 'study'\n",
            " 'to' 'university']\n"
          ]
        }
      ]
    },
    {
      "cell_type": "code",
      "source": [
        "# Print TF-IDF vectors for each document\n",
        "print(\"\\nTF-IDF Vectors:\")\n",
        "for i, doc in enumerate(documents):\n",
        "    print(f\"Document {i + 1}:\")\n",
        "    print(tfidf_vectors[i])\n",
        "    print()"
      ],
      "metadata": {
        "colab": {
          "base_uri": "https://localhost:8080/"
        },
        "id": "5FSSvxA9MH6m",
        "outputId": "8940166f-1d54-4e99-9037-7eb1ba72009a"
      },
      "execution_count": null,
      "outputs": [
        {
          "output_type": "stream",
          "name": "stdout",
          "text": [
            "\n",
            "TF-IDF Vectors:\n",
            "Document 1:\n",
            "<Compressed Sparse Row sparse matrix of dtype 'float64'\n",
            "\twith 6 stored elements and shape (1, 10)>\n",
            "  Coords\tValues\n",
            "  (0, 7)\t0.4082482904638631\n",
            "  (0, 2)\t0.4082482904638631\n",
            "  (0, 3)\t0.4082482904638631\n",
            "  (0, 1)\t0.4082482904638631\n",
            "  (0, 6)\t0.4082482904638631\n",
            "  (0, 9)\t0.4082482904638631\n",
            "\n",
            "Document 2:\n",
            "<Compressed Sparse Row sparse matrix of dtype 'float64'\n",
            "\twith 10 stored elements and shape (1, 10)>\n",
            "  Coords\tValues\n",
            "  (0, 7)\t0.2682080718928097\n",
            "  (0, 2)\t0.2682080718928097\n",
            "  (0, 3)\t0.2682080718928097\n",
            "  (0, 1)\t0.2682080718928097\n",
            "  (0, 6)\t0.2682080718928097\n",
            "  (0, 9)\t0.2682080718928097\n",
            "  (0, 0)\t0.37695708675831013\n",
            "  (0, 4)\t0.37695708675831013\n",
            "  (0, 5)\t0.37695708675831013\n",
            "  (0, 8)\t0.37695708675831013\n",
            "\n"
          ]
        }
      ]
    },
    {
      "cell_type": "code",
      "source": [
        "#import cosine_similarity\n",
        "from sklearn.metrics.pairwise import cosine_similarity\n",
        "\n",
        "# Calculate cosine similarity between the documents\n",
        "cosine_sim = cosine_similarity(tfidf_vectors[0], tfidf_vectors[1]).flatten()[0]\n",
        "\n",
        "# Print cosine similarity\n",
        "print(f\"Cosine Similarity between document 1 and document 2: {cosine_sim}\")"
      ],
      "metadata": {
        "colab": {
          "base_uri": "https://localhost:8080/"
        },
        "id": "amIB_4KjMaED",
        "outputId": "c585af02-483a-41ca-fd41-3a56fa1a0a8d"
      },
      "execution_count": null,
      "outputs": [
        {
          "output_type": "stream",
          "name": "stdout",
          "text": [
            "Cosine Similarity between document 1 and document 2: 0.6569729210330907\n"
          ]
        }
      ]
    }
  ]
}
